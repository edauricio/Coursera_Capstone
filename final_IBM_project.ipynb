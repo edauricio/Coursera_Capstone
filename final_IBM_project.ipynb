{
 "cells": [
  {
   "cell_type": "markdown",
   "metadata": {},
   "source": [
    "# Optimal Venue Placement Finder"
   ]
  },
  {
   "cell_type": "markdown",
   "metadata": {},
   "source": [
    "## Introduction and Motivation"
   ]
  },
  {
   "cell_type": "markdown",
   "metadata": {},
   "source": [
    "Whenever someone needs to move to a new city, it is hard to know which neighborhood or location is the best place to rent a room, an apartment or a condo according to one's needs. Sometimes we have friends in the new city to ask for tips and advices, but most of the times we are all alone with our families, moving into a new city due to work conditions (a promotion, a replacement, etc.).\n",
    "\n",
    "Likewise, if someone wants to open a new business, for example, a Japanese restaurant, it is not an easy task to choose a neighborhood to start building your cuisine dream. It is important to know where your business would likely be most successful, according to other businesses around it, the kind of people living nearby (e.g. income level, education level, etc.), and so on.\n",
    "\n",
    "Therefore, based on the idea proposed in the assignment instruction and taking into account the problems just outlined above, this project will aim at creating a model to find the optimal placement of a venue, or the optimal place to move in according to a business or person's needs.\n",
    "The model is intended to be used by anyone who needs to know optimal placements based on the characteristics of the venues in the neighborhoods of a city.\n",
    "\n",
    "For this project, the Foursquare location data will be used. However, the project will be written in such a manner that extensions using other databases are easily implemented -- and even encouraged. For example, it is possible to add data about criminal records in a neighborhood so that this information is also taken into account when training the model."
   ]
  },
  {
   "cell_type": "markdown",
   "metadata": {},
   "source": [
    "## Data"
   ]
  },
  {
   "cell_type": "markdown",
   "metadata": {},
   "source": [
    "For this project, we will be using the Foursquare location data, which can be easily obtained through RESTful API calls. Basically, we will explore many locations in a city, gathering information about venues around each of these locations. Such locations can be specified by latitude and longitude coordinates, or it may be names of neighborhoods. As a showdown, at first all the neighborhoods of a specific city will be surveyd.\n",
    "\n",
    "With the information about venues around a given neighborhood, we then create a dataframe where we can see what kind (i.e. category) of venue appears around the neighborhoods in that city. Then, these amounts are weighted according to the user's need. For example, if we are looking for a place with high amount of coffee shops, we can weight the frequency of these venues in our dataframe for each neighborhood, so it is easier to identify locations with this characteristic. Negative weights may also be applied, in which case this means that the user wants locations or neighborhoods where such category appears as least as possible."
   ]
  },
  {
   "cell_type": "code",
   "execution_count": null,
   "metadata": {},
   "outputs": [],
   "source": []
  }
 ],
 "metadata": {
  "kernelspec": {
   "display_name": "Python 3",
   "language": "python",
   "name": "python3"
  },
  "language_info": {
   "codemirror_mode": {
    "name": "ipython",
    "version": 3
   },
   "file_extension": ".py",
   "mimetype": "text/x-python",
   "name": "python",
   "nbconvert_exporter": "python",
   "pygments_lexer": "ipython3",
   "version": "3.6.9"
  }
 },
 "nbformat": 4,
 "nbformat_minor": 4
}
