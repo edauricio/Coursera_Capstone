{
 "cells": [
  {
   "cell_type": "markdown",
   "metadata": {},
   "source": [
    "# Jupyter Notebook containing code for the IBM Capstone Project Course"
   ]
  },
  {
   "cell_type": "code",
   "execution_count": 1,
   "metadata": {},
   "outputs": [],
   "source": [
    "import pandas as pd\n",
    "import numpy as np"
   ]
  },
  {
   "cell_type": "code",
   "execution_count": 2,
   "metadata": {},
   "outputs": [
    {
     "name": "stdout",
     "output_type": "stream",
     "text": [
      "Hello Capstone Project Course!\n"
     ]
    }
   ],
   "source": [
    "print('Hello Capstone Project Course!')"
   ]
  },
  {
   "cell_type": "markdown",
   "metadata": {},
   "source": [
    "# Code for the Week 3 Peer-review Assignment"
   ]
  },
  {
   "cell_type": "markdown",
   "metadata": {},
   "source": [
    "## From here on, the code refers to the segmentation and clustering of the neighborhoods of Toronto"
   ]
  },
  {
   "cell_type": "markdown",
   "metadata": {},
   "source": [
    "# #### 1st part ####"
   ]
  },
  {
   "cell_type": "code",
   "execution_count": 3,
   "metadata": {},
   "outputs": [],
   "source": [
    "import pandas as pd\n",
    "import numpy as np\n",
    "\n",
    "pd.set_option('display.max_columns', None)\n",
    "pd.set_option('display.max_rows', None)"
   ]
  },
  {
   "cell_type": "markdown",
   "metadata": {},
   "source": [
    "### Since the information in the Wikipedia is already in a table (structured),  we can use pandas to directly read this information."
   ]
  },
  {
   "cell_type": "code",
   "execution_count": 4,
   "metadata": {},
   "outputs": [
    {
     "data": {
      "text/html": [
       "<div>\n",
       "<style scoped>\n",
       "    .dataframe tbody tr th:only-of-type {\n",
       "        vertical-align: middle;\n",
       "    }\n",
       "\n",
       "    .dataframe tbody tr th {\n",
       "        vertical-align: top;\n",
       "    }\n",
       "\n",
       "    .dataframe thead th {\n",
       "        text-align: right;\n",
       "    }\n",
       "</style>\n",
       "<table border=\"1\" class=\"dataframe\">\n",
       "  <thead>\n",
       "    <tr style=\"text-align: right;\">\n",
       "      <th></th>\n",
       "      <th>PostalCode</th>\n",
       "      <th>Borough</th>\n",
       "      <th>Neighborhood</th>\n",
       "    </tr>\n",
       "  </thead>\n",
       "  <tbody>\n",
       "    <tr>\n",
       "      <th>0</th>\n",
       "      <td>M3A</td>\n",
       "      <td>North York</td>\n",
       "      <td>Parkwoods</td>\n",
       "    </tr>\n",
       "    <tr>\n",
       "      <th>1</th>\n",
       "      <td>M4A</td>\n",
       "      <td>North York</td>\n",
       "      <td>Victoria Village</td>\n",
       "    </tr>\n",
       "    <tr>\n",
       "      <th>2</th>\n",
       "      <td>M5A</td>\n",
       "      <td>Downtown Toronto</td>\n",
       "      <td>Regent Park, Harbourfront</td>\n",
       "    </tr>\n",
       "    <tr>\n",
       "      <th>3</th>\n",
       "      <td>M6A</td>\n",
       "      <td>North York</td>\n",
       "      <td>Lawrence Manor, Lawrence Heights</td>\n",
       "    </tr>\n",
       "    <tr>\n",
       "      <th>4</th>\n",
       "      <td>M7A</td>\n",
       "      <td>Downtown Toronto</td>\n",
       "      <td>Queen's Park, Ontario Provincial Government</td>\n",
       "    </tr>\n",
       "    <tr>\n",
       "      <th>5</th>\n",
       "      <td>M9A</td>\n",
       "      <td>Etobicoke</td>\n",
       "      <td>Islington Avenue, Humber Valley Village</td>\n",
       "    </tr>\n",
       "    <tr>\n",
       "      <th>6</th>\n",
       "      <td>M1B</td>\n",
       "      <td>Scarborough</td>\n",
       "      <td>Malvern, Rouge</td>\n",
       "    </tr>\n",
       "    <tr>\n",
       "      <th>7</th>\n",
       "      <td>M3B</td>\n",
       "      <td>North York</td>\n",
       "      <td>Don Mills</td>\n",
       "    </tr>\n",
       "    <tr>\n",
       "      <th>8</th>\n",
       "      <td>M4B</td>\n",
       "      <td>East York</td>\n",
       "      <td>Parkview Hill, Woodbine Gardens</td>\n",
       "    </tr>\n",
       "    <tr>\n",
       "      <th>9</th>\n",
       "      <td>M5B</td>\n",
       "      <td>Downtown Toronto</td>\n",
       "      <td>Garden District, Ryerson</td>\n",
       "    </tr>\n",
       "  </tbody>\n",
       "</table>\n",
       "</div>"
      ],
      "text/plain": [
       "  PostalCode           Borough                                 Neighborhood\n",
       "0        M3A        North York                                    Parkwoods\n",
       "1        M4A        North York                             Victoria Village\n",
       "2        M5A  Downtown Toronto                    Regent Park, Harbourfront\n",
       "3        M6A        North York             Lawrence Manor, Lawrence Heights\n",
       "4        M7A  Downtown Toronto  Queen's Park, Ontario Provincial Government\n",
       "5        M9A         Etobicoke      Islington Avenue, Humber Valley Village\n",
       "6        M1B       Scarborough                               Malvern, Rouge\n",
       "7        M3B        North York                                    Don Mills\n",
       "8        M4B         East York              Parkview Hill, Woodbine Gardens\n",
       "9        M5B  Downtown Toronto                     Garden District, Ryerson"
      ]
     },
     "execution_count": 4,
     "metadata": {},
     "output_type": "execute_result"
    }
   ],
   "source": [
    "# Reading Wiki page into pandas object\n",
    "temp_wiki = pd.read_html('https://en.wikipedia.org/wiki/List_of_postal_codes_of_Canada:_M')\n",
    "toronto_df = temp_wiki[0]\n",
    "\n",
    "# Rename the columns to be like the ones shown in the assignment instructions\n",
    "toronto_df.columns = ['PostalCode','Borough','Neighborhood']\n",
    "\n",
    "# Drop non-assigned boroughs by first substituting the string by NaN and then droping it\n",
    "toronto_df.replace('Not assigned', np.NaN, inplace=True)\n",
    "toronto_df.dropna(inplace=True)\n",
    "toronto_df.reset_index(inplace=True, drop=True)\n",
    "toronto_df.head(10)"
   ]
  },
  {
   "cell_type": "code",
   "execution_count": 5,
   "metadata": {},
   "outputs": [
    {
     "data": {
      "text/plain": [
       "(103, 3)"
      ]
     },
     "execution_count": 5,
     "metadata": {},
     "output_type": "execute_result"
    }
   ],
   "source": [
    "# Check dataframe's shape\n",
    "toronto_df.shape"
   ]
  },
  {
   "cell_type": "markdown",
   "metadata": {},
   "source": [
    "# #### 2nd part"
   ]
  },
  {
   "cell_type": "code",
   "execution_count": 6,
   "metadata": {},
   "outputs": [
    {
     "name": "stdout",
     "output_type": "stream",
     "text": [
      "Collecting geocoder\n",
      "  Using cached https://files.pythonhosted.org/packages/4f/6b/13166c909ad2f2d76b929a4227c952630ebaf0d729f6317eb09cbceccbab/geocoder-1.38.1-py2.py3-none-any.whl\n",
      "Collecting ratelim (from geocoder)\n",
      "  Using cached https://files.pythonhosted.org/packages/f2/98/7e6d147fd16a10a5f821db6e25f192265d6ecca3d82957a4fdd592cad49c/ratelim-0.1.6-py2.py3-none-any.whl\n",
      "Collecting requests (from geocoder)\n",
      "  Using cached https://files.pythonhosted.org/packages/29/c1/24814557f1d22c56d50280771a17307e6bf87b70727d975fd6b2ce6b014a/requests-2.25.1-py2.py3-none-any.whl\n",
      "Collecting future (from geocoder)\n",
      "Collecting six (from geocoder)\n",
      "  Using cached https://files.pythonhosted.org/packages/ee/ff/48bde5c0f013094d729fe4b0316ba2a24774b3ff1c52d924a8a4cb04078a/six-1.15.0-py2.py3-none-any.whl\n",
      "Collecting click (from geocoder)\n",
      "  Using cached https://files.pythonhosted.org/packages/d2/3d/fa76db83bf75c4f8d338c2fd15c8d33fdd7ad23a9b5e57eb6c5de26b430e/click-7.1.2-py2.py3-none-any.whl\n",
      "Collecting decorator (from ratelim->geocoder)\n",
      "  Using cached https://files.pythonhosted.org/packages/ed/1b/72a1821152d07cf1d8b6fce298aeb06a7eb90f4d6d41acec9861e7cc6df0/decorator-4.4.2-py2.py3-none-any.whl\n",
      "Collecting urllib3<1.27,>=1.21.1 (from requests->geocoder)\n",
      "  Using cached https://files.pythonhosted.org/packages/23/fc/8a49991f7905261f9ca9df5aa9b58363c3c821ce3e7f671895442b7100f2/urllib3-1.26.3-py2.py3-none-any.whl\n",
      "Collecting certifi>=2017.4.17 (from requests->geocoder)\n",
      "  Using cached https://files.pythonhosted.org/packages/5e/a0/5f06e1e1d463903cf0c0eebeb751791119ed7a4b3737fdc9a77f1cdfb51f/certifi-2020.12.5-py2.py3-none-any.whl\n",
      "Collecting idna<3,>=2.5 (from requests->geocoder)\n",
      "  Using cached https://files.pythonhosted.org/packages/a2/38/928ddce2273eaa564f6f50de919327bf3a00f091b5baba8dfa9460f3a8a8/idna-2.10-py2.py3-none-any.whl\n",
      "Collecting chardet<5,>=3.0.2 (from requests->geocoder)\n",
      "  Using cached https://files.pythonhosted.org/packages/19/c7/fa589626997dd07bd87d9269342ccb74b1720384a4d739a1872bd84fbe68/chardet-4.0.0-py2.py3-none-any.whl\n",
      "Installing collected packages: decorator, ratelim, urllib3, certifi, idna, chardet, requests, future, six, click, geocoder\n",
      "Successfully installed certifi-2020.12.5 chardet-4.0.0 click-7.1.2 decorator-4.4.2 future-0.18.2 geocoder-1.38.1 idna-2.10 ratelim-0.1.6 requests-2.25.1 six-1.15.0 urllib3-1.26.3\n",
      "Library successfully loaded!\n"
     ]
    }
   ],
   "source": [
    "# Installing and importing geocoder library\n",
    "!pip install geocoder\n",
    "import geocoder\n",
    "print('Library successfully loaded!')"
   ]
  },
  {
   "cell_type": "markdown",
   "metadata": {},
   "source": [
    "### WARNING: The geocoder library is not working due to a lack of API key to make requests to Google Maps.\n",
    "### Since this API key is now paid, I will directly download the .csv file containing latitude and longitude data"
   ]
  },
  {
   "cell_type": "code",
   "execution_count": 7,
   "metadata": {},
   "outputs": [],
   "source": [
    "# Loop through each postal code to get the latitude and longitude\n",
    "# As described in the assignment instructions, we should loop through each one because sometimes the request fail\n",
    "\n",
    "# Create a list containing the lat. and long. for each neighborhood so we can add to the dataframe later\n",
    "#lat_list=[]\n",
    "#long_list=[]\n",
    "#for i, pc in enumerate(toronto_df['PostalCode']):\n",
    "#    ll_coords=None\n",
    "#    while (ll_coords == None):\n",
    "#        print('Trying to get coordinates for {} postal code'.format(pc))\n",
    "#        g = geocoder.google('{}, Toronto, Ontario'.format(pc))\n",
    "#        ll_coords = g.latlng\n",
    "#    lat_list.append(ll_coords[0])\n",
    "#    long_list.append(ll_coords[1])\n",
    "    \n",
    "#lat_list\n",
    "#long_list"
   ]
  },
  {
   "cell_type": "code",
   "execution_count": 8,
   "metadata": {},
   "outputs": [
    {
     "data": {
      "text/html": [
       "<div>\n",
       "<style scoped>\n",
       "    .dataframe tbody tr th:only-of-type {\n",
       "        vertical-align: middle;\n",
       "    }\n",
       "\n",
       "    .dataframe tbody tr th {\n",
       "        vertical-align: top;\n",
       "    }\n",
       "\n",
       "    .dataframe thead th {\n",
       "        text-align: right;\n",
       "    }\n",
       "</style>\n",
       "<table border=\"1\" class=\"dataframe\">\n",
       "  <thead>\n",
       "    <tr style=\"text-align: right;\">\n",
       "      <th></th>\n",
       "      <th>PostalCode</th>\n",
       "      <th>Latitude</th>\n",
       "      <th>Longitude</th>\n",
       "    </tr>\n",
       "  </thead>\n",
       "  <tbody>\n",
       "    <tr>\n",
       "      <th>0</th>\n",
       "      <td>M1B</td>\n",
       "      <td>43.806686</td>\n",
       "      <td>-79.194353</td>\n",
       "    </tr>\n",
       "    <tr>\n",
       "      <th>1</th>\n",
       "      <td>M1C</td>\n",
       "      <td>43.784535</td>\n",
       "      <td>-79.160497</td>\n",
       "    </tr>\n",
       "    <tr>\n",
       "      <th>2</th>\n",
       "      <td>M1E</td>\n",
       "      <td>43.763573</td>\n",
       "      <td>-79.188711</td>\n",
       "    </tr>\n",
       "    <tr>\n",
       "      <th>3</th>\n",
       "      <td>M1G</td>\n",
       "      <td>43.770992</td>\n",
       "      <td>-79.216917</td>\n",
       "    </tr>\n",
       "    <tr>\n",
       "      <th>4</th>\n",
       "      <td>M1H</td>\n",
       "      <td>43.773136</td>\n",
       "      <td>-79.239476</td>\n",
       "    </tr>\n",
       "  </tbody>\n",
       "</table>\n",
       "</div>"
      ],
      "text/plain": [
       "  PostalCode   Latitude  Longitude\n",
       "0        M1B  43.806686 -79.194353\n",
       "1        M1C  43.784535 -79.160497\n",
       "2        M1E  43.763573 -79.188711\n",
       "3        M1G  43.770992 -79.216917\n",
       "4        M1H  43.773136 -79.239476"
      ]
     },
     "execution_count": 8,
     "metadata": {},
     "output_type": "execute_result"
    }
   ],
   "source": [
    "# Download .csv file containing latitude and longitude information (geocoder not working)\n",
    "!wget -q -O 'latlong_data.csv' https://cocl.us/Geospatial_data\n",
    "latlong_df = pd.read_csv('latlong_data.csv')\n",
    "latlong_df.columns = ['PostalCode', latlong_df.columns[1], latlong_df.columns[2]]\n",
    "latlong_df.head()"
   ]
  },
  {
   "cell_type": "markdown",
   "metadata": {},
   "source": [
    "### Join dataframes in order to add lat. and long. columns to the main dataframe"
   ]
  },
  {
   "cell_type": "code",
   "execution_count": 9,
   "metadata": {},
   "outputs": [
    {
     "data": {
      "text/html": [
       "<div>\n",
       "<style scoped>\n",
       "    .dataframe tbody tr th:only-of-type {\n",
       "        vertical-align: middle;\n",
       "    }\n",
       "\n",
       "    .dataframe tbody tr th {\n",
       "        vertical-align: top;\n",
       "    }\n",
       "\n",
       "    .dataframe thead th {\n",
       "        text-align: right;\n",
       "    }\n",
       "</style>\n",
       "<table border=\"1\" class=\"dataframe\">\n",
       "  <thead>\n",
       "    <tr style=\"text-align: right;\">\n",
       "      <th></th>\n",
       "      <th>PostalCode</th>\n",
       "      <th>Borough</th>\n",
       "      <th>Neighborhood</th>\n",
       "      <th>Latitude</th>\n",
       "      <th>Longitude</th>\n",
       "    </tr>\n",
       "  </thead>\n",
       "  <tbody>\n",
       "    <tr>\n",
       "      <th>0</th>\n",
       "      <td>M3A</td>\n",
       "      <td>North York</td>\n",
       "      <td>Parkwoods</td>\n",
       "      <td>43.753259</td>\n",
       "      <td>-79.329656</td>\n",
       "    </tr>\n",
       "    <tr>\n",
       "      <th>1</th>\n",
       "      <td>M4A</td>\n",
       "      <td>North York</td>\n",
       "      <td>Victoria Village</td>\n",
       "      <td>43.725882</td>\n",
       "      <td>-79.315572</td>\n",
       "    </tr>\n",
       "    <tr>\n",
       "      <th>2</th>\n",
       "      <td>M5A</td>\n",
       "      <td>Downtown Toronto</td>\n",
       "      <td>Regent Park, Harbourfront</td>\n",
       "      <td>43.654260</td>\n",
       "      <td>-79.360636</td>\n",
       "    </tr>\n",
       "    <tr>\n",
       "      <th>3</th>\n",
       "      <td>M6A</td>\n",
       "      <td>North York</td>\n",
       "      <td>Lawrence Manor, Lawrence Heights</td>\n",
       "      <td>43.718518</td>\n",
       "      <td>-79.464763</td>\n",
       "    </tr>\n",
       "    <tr>\n",
       "      <th>4</th>\n",
       "      <td>M7A</td>\n",
       "      <td>Downtown Toronto</td>\n",
       "      <td>Queen's Park, Ontario Provincial Government</td>\n",
       "      <td>43.662301</td>\n",
       "      <td>-79.389494</td>\n",
       "    </tr>\n",
       "  </tbody>\n",
       "</table>\n",
       "</div>"
      ],
      "text/plain": [
       "  PostalCode           Borough                                 Neighborhood  \\\n",
       "0        M3A        North York                                    Parkwoods   \n",
       "1        M4A        North York                             Victoria Village   \n",
       "2        M5A  Downtown Toronto                    Regent Park, Harbourfront   \n",
       "3        M6A        North York             Lawrence Manor, Lawrence Heights   \n",
       "4        M7A  Downtown Toronto  Queen's Park, Ontario Provincial Government   \n",
       "\n",
       "    Latitude  Longitude  \n",
       "0  43.753259 -79.329656  \n",
       "1  43.725882 -79.315572  \n",
       "2  43.654260 -79.360636  \n",
       "3  43.718518 -79.464763  \n",
       "4  43.662301 -79.389494  "
      ]
     },
     "execution_count": 9,
     "metadata": {},
     "output_type": "execute_result"
    }
   ],
   "source": [
    "toronto_df = toronto_df.join(latlong_df.set_index('PostalCode'), on='PostalCode')\n",
    "toronto_df.head()"
   ]
  },
  {
   "cell_type": "code",
   "execution_count": 10,
   "metadata": {},
   "outputs": [
    {
     "data": {
      "text/plain": [
       "(103, 5)"
      ]
     },
     "execution_count": 10,
     "metadata": {},
     "output_type": "execute_result"
    }
   ],
   "source": [
    "# Check shape\n",
    "toronto_df.shape"
   ]
  },
  {
   "cell_type": "markdown",
   "metadata": {},
   "source": [
    "# ### 3rd part"
   ]
  },
  {
   "cell_type": "markdown",
   "metadata": {},
   "source": [
    "### With the latitude and longitude of the postal codes, we can start exploring all these neighborhood using the Foursqure API"
   ]
  },
  {
   "cell_type": "markdown",
   "metadata": {},
   "source": [
    "### First, we set up the credentials"
   ]
  },
  {
   "cell_type": "code",
   "execution_count": 19,
   "metadata": {},
   "outputs": [],
   "source": [
    "client_id = 'OXRTGFVDOOXWP4YWZZIFL2MYJX0CZ1BUQIFLY3GYQW2CZZKQ'\n",
    "client_secret = 'JL2GNLHNDSPVEV4LO1STXL4UYBEORBVFIWVDWVQGGSQY3DNV'\n",
    "version = '20180605'\n",
    "limit = 100"
   ]
  },
  {
   "cell_type": "markdown",
   "metadata": {},
   "source": [
    "### Now we loop through each postal code and find the venues within 500 meters of each, for a limit of 100 "
   ]
  },
  {
   "cell_type": "markdown",
   "metadata": {},
   "source": [
    "### With the retrieved info, we create our working dataframe"
   ]
  },
  {
   "cell_type": "code",
   "execution_count": 20,
   "metadata": {},
   "outputs": [],
   "source": [
    "import requests\n",
    "from pandas.io.json import json_normalize"
   ]
  },
  {
   "cell_type": "code",
   "execution_count": 22,
   "metadata": {},
   "outputs": [
    {
     "name": "stdout",
     "output_type": "stream",
     "text": [
      "https://api.foursquare.com/v2/venues/explore?client_id=OXRTGFVDOOXWP4YWZZIFL2MYJX0CZ1BUQIFLY3GYQW2CZZKQ&client_secret=JL2GNLHNDSPVEV4LO1STXL4UYBEORBVFIWVDWVQGGSQY3DNV&v=20180605&radius=500&limit=100&ll=43.7532586,-79.3296565\n",
      "{'meta': {'code': 429, 'errorType': 'quota_exceeded', 'errorDetail': 'Quota exceeded', 'requestId': '601ab30d2efe1b20da00f4ee'}, 'response': {}}\n"
     ]
    },
    {
     "ename": "KeyError",
     "evalue": "'groups'",
     "output_type": "error",
     "traceback": [
      "\u001b[0;31m---------------------------------------------------------------------------\u001b[0m",
      "\u001b[0;31mKeyError\u001b[0m                                  Traceback (most recent call last)",
      "\u001b[0;32m<ipython-input-22-61c73e3378c1>\u001b[0m in \u001b[0;36m<module>\u001b[0;34m\u001b[0m\n\u001b[1;32m     13\u001b[0m     \u001b[0mresult\u001b[0m \u001b[0;34m=\u001b[0m \u001b[0mrequests\u001b[0m\u001b[0;34m.\u001b[0m\u001b[0mget\u001b[0m\u001b[0;34m(\u001b[0m\u001b[0murl\u001b[0m\u001b[0;34m)\u001b[0m\u001b[0;34m.\u001b[0m\u001b[0mjson\u001b[0m\u001b[0;34m(\u001b[0m\u001b[0;34m)\u001b[0m\u001b[0;34m\u001b[0m\u001b[0;34m\u001b[0m\u001b[0m\n\u001b[1;32m     14\u001b[0m     \u001b[0mprint\u001b[0m\u001b[0;34m(\u001b[0m\u001b[0mresult\u001b[0m\u001b[0;34m)\u001b[0m\u001b[0;34m\u001b[0m\u001b[0;34m\u001b[0m\u001b[0m\n\u001b[0;32m---> 15\u001b[0;31m     \u001b[0mresult\u001b[0m \u001b[0;34m=\u001b[0m \u001b[0mresult\u001b[0m\u001b[0;34m[\u001b[0m\u001b[0;34m'response'\u001b[0m\u001b[0;34m]\u001b[0m\u001b[0;34m[\u001b[0m\u001b[0;34m'groups'\u001b[0m\u001b[0;34m]\u001b[0m\u001b[0;34m[\u001b[0m\u001b[0;36m0\u001b[0m\u001b[0;34m]\u001b[0m\u001b[0;34m[\u001b[0m\u001b[0;34m'items'\u001b[0m\u001b[0;34m]\u001b[0m\u001b[0;34m\u001b[0m\u001b[0;34m\u001b[0m\u001b[0m\n\u001b[0m\u001b[1;32m     16\u001b[0m \u001b[0;34m\u001b[0m\u001b[0m\n\u001b[1;32m     17\u001b[0m     \u001b[0;32mfor\u001b[0m \u001b[0mvenue\u001b[0m \u001b[0;32min\u001b[0m \u001b[0mresult\u001b[0m\u001b[0;34m:\u001b[0m\u001b[0;34m\u001b[0m\u001b[0;34m\u001b[0m\u001b[0m\n",
      "\u001b[0;31mKeyError\u001b[0m: 'groups'"
     ]
    }
   ],
   "source": [
    "rad = 500\n",
    "temp_df = toronto_df.set_index('PostalCode')\n",
    "base_url = 'https://api.foursquare.com/v2/venues/explore?client_id={}&client_secret={}&v={}&radius={}&limit={}'.format(client_id,client_secret,version,rad,limit)\n",
    "\n",
    "venues_list=[]\n",
    "for pc in toronto_df['PostalCode']:\n",
    "    lat = temp_df.loc[pc, 'Latitude']\n",
    "    long = temp_df.loc[pc, 'Longitude']\n",
    "    \n",
    "    # Set up the url for the API request by adding the lat. and long. info to the base url\n",
    "    url = base_url + '&ll={},{}'.format(lat,long)\n",
    "    print(url)\n",
    "    result = requests.get(url).json()\n",
    "    print(result)\n",
    "    result = result['response']['groups'][0]['items']\n",
    "    \n",
    "    for venue in result:\n",
    "        venues_list.append([pc, venue['venue']['name'], venue['venue']['categories'][0]['name']])"
   ]
  },
  {
   "cell_type": "code",
   "execution_count": null,
   "metadata": {},
   "outputs": [],
   "source": [
    "venues_df = pd.DataFrame(venues_list)\n",
    "venues_df.columns=['PostalCode','Venue Name','Venue Category']\n",
    "venues_df.head()"
   ]
  },
  {
   "cell_type": "markdown",
   "metadata": {},
   "source": [
    "### Now we create dummie variables/features (one-hot encoding) for each category so we can calculate the frequency (and mean) of each venue for each postal code\n",
    "### Remember that we are doing all in terms of postal codes because they are the ones holding the latitude/longitude information, not the boroughs\n",
    "### We may experiment grouping the dataframe by boroughs later for the clustering"
   ]
  },
  {
   "cell_type": "code",
   "execution_count": null,
   "metadata": {},
   "outputs": [],
   "source": [
    "# First, let's count the number of unique categories\n",
    "len(pd.unique(venues_df['Venue Category']))"
   ]
  },
  {
   "cell_type": "code",
   "execution_count": null,
   "metadata": {},
   "outputs": [],
   "source": [
    "# One-hot enconding\n",
    "venues_onehot = pd.get_dummies(venues_df[['Venue Category']], prefix=\"\", prefix_sep=\"\")\n",
    "\n",
    "# We now add the postal codes\n",
    "venues_onehot['PostalCode'] = venues_df['PostalCode']\n",
    "\n",
    "# Fix columns\n",
    "col_order = [[venues_onehot.columns[-1]] + list(venues_onehot.columns[:-1])]\n",
    "venues_onehot = venues_onehot[col_order[0]]\n",
    "venues_onehot.head(10)"
   ]
  },
  {
   "cell_type": "code",
   "execution_count": null,
   "metadata": {},
   "outputs": [],
   "source": [
    "# Take the mean of category appearances for each postal code\n",
    "venues_grouped = venues_onehot.groupby('PostalCode').mean().reset_index()\n",
    "venues_grouped.head()"
   ]
  },
  {
   "cell_type": "markdown",
   "metadata": {},
   "source": [
    "### With our working dataframe created, we are now ready to apply the K-Means algorithms"
   ]
  },
  {
   "cell_type": "code",
   "execution_count": null,
   "metadata": {},
   "outputs": [],
   "source": [
    "from sklearn.cluster import KMeans"
   ]
  },
  {
   "cell_type": "code",
   "execution_count": null,
   "metadata": {},
   "outputs": [],
   "source": [
    "venues_cluster = venues_grouped.drop('PostalCode', 1)\n",
    "\n",
    "kclusters = 5\n",
    "\n",
    "kmm = KMeans(n_clusters=kclusters, init=\"k-means++\", n_init=10, random_state=0)\n",
    "\n",
    "kmm.fit(venues_cluster)\n",
    "\n",
    "kmm.labels_"
   ]
  },
  {
   "cell_type": "markdown",
   "metadata": {},
   "source": [
    "### With the labels obtained, we insert it into the previous dataframe"
   ]
  },
  {
   "cell_type": "code",
   "execution_count": null,
   "metadata": {},
   "outputs": [],
   "source": [
    "venues_grouped.insert(1, 'Cluster', kmm.labels_)\n",
    "venues_grouped.head()"
   ]
  },
  {
   "cell_type": "markdown",
   "metadata": {},
   "source": [
    "### Let's clean the database, dropping the categories and adding latitude/longitude so we can finally plot it"
   ]
  },
  {
   "cell_type": "code",
   "execution_count": null,
   "metadata": {},
   "outputs": [],
   "source": [
    "# Drop the category information\n",
    "venues_grouped = venues_grouped.iloc[:,[0,1]]\n",
    "\n",
    "# Add latitude/longitude and borough/neighborhood information\n",
    "postal_clusters = venues_grouped.join(toronto_df.set_index('PostalCode'), on='PostalCode')\n",
    "\n",
    "# Rearrange columns so that cluster goes to the end\n",
    "new_cols = [col for col in postal_clusters.columns if not col == 'Cluster']\n",
    "new_cols.append('Cluster')\n",
    "\n",
    "postal_clusters = postal_clusters[new_cols]\n",
    "postal_clusters.head()"
   ]
  },
  {
   "cell_type": "markdown",
   "metadata": {},
   "source": [
    "### Now we can finally create a Folium map and insert our postal code-based clusters"
   ]
  },
  {
   "cell_type": "code",
   "execution_count": null,
   "metadata": {},
   "outputs": [],
   "source": [
    "import folium\n",
    "\n",
    "import matplotlib.pyplot as plt\n",
    "import matplotlib.colors as colors_mpl"
   ]
  },
  {
   "cell_type": "code",
   "execution_count": null,
   "metadata": {},
   "outputs": [],
   "source": [
    "toronto_lat = 43.6532\n",
    "toronto_long = -79.3832\n",
    "\n",
    "# Create our map centered in Toronto\n",
    "postal_map = folium.Map(location=[toronto_lat, toronto_long], zoom_start=11)\n",
    "\n",
    "# Now we create our colored markers for each postal code and cluster number\n",
    "cols = plt.cm.Spectral(np.linspace(0,1,len(set(kmm.labels_))))\n",
    "cols = [colors_mpl.rgb2hex(x) for x in cols]\n",
    "\n",
    "for postal, lat, long, clus, bor in zip(postal_clusters['PostalCode'], postal_clusters['Latitude'], postal_clusters['Longitude'], postal_clusters['Cluster'], postal_clusters['Borough']):\n",
    "    label = folium.Popup('{}: {}, {}'.format(postal,bor,clus))\n",
    "    folium.CircleMarker([lat,long],\n",
    "                       radius=5,\n",
    "                       popup=label,\n",
    "                       fill=True,\n",
    "                       color=cols[clus],\n",
    "                       fill_color=cols[clus],\n",
    "                       fill_opacity=0.9).add_to(postal_map)\n",
    "postal_map"
   ]
  },
  {
   "cell_type": "markdown",
   "metadata": {},
   "source": [
    "### We can see that most of Toronto's postal codes are clustered as \"0\"\n",
    "### We could then analyze what are the characteristics of the 0-cluster so that we can make assertions about these neighborhoods"
   ]
  },
  {
   "cell_type": "markdown",
   "metadata": {},
   "source": [
    "## From the above result, we see that clustering by postal codes may not be the best choice, since many different postal codes have very similar lat/long. locations\n",
    "\n",
    "## We now try something different\n",
    "### We will segment and cluster only the neighborhoods pertaining to Downtown Toronto borough"
   ]
  },
  {
   "cell_type": "code",
   "execution_count": null,
   "metadata": {},
   "outputs": [],
   "source": [
    "# We first form our dataframe containing Downtown Toronto information\n",
    "dt_df = toronto_df[toronto_df['Borough']=='Downtown Toronto']\n",
    "dt_df.head()"
   ]
  },
  {
   "cell_type": "markdown",
   "metadata": {},
   "source": [
    "### Now we explore venues for each (set of) neighborhood in a radius of 200 meters"
   ]
  },
  {
   "cell_type": "code",
   "execution_count": null,
   "metadata": {},
   "outputs": [],
   "source": [
    "rad = 200\n",
    "temp_df = dt_df.set_index('Neighborhood')\n",
    "base_url = 'https://api.foursquare.com/v2/venues/explore?client_id={}&client_secret={}&v={}&radius={}&limit={}'.format(client_id,client_secret,version,rad,limit)\n",
    "\n",
    "dtvenues_list=[]\n",
    "for nb in dt_df['Neighborhood']:\n",
    "    lat = temp_df.loc[nb, 'Latitude']\n",
    "    long = temp_df.loc[nb, 'Longitude']\n",
    "    \n",
    "    # Set up the url for the API request by adding the lat. and long. info to the base url\n",
    "    url = base_url + '&ll={},{}'.format(lat,long)\n",
    "    \n",
    "    result = requests.get(url).json()['response']['groups'][0]['items']\n",
    "    \n",
    "    for venue in result:\n",
    "        dtvenues_list.append([nb, venue['venue']['name'], venue['venue']['categories'][0]['name']])"
   ]
  },
  {
   "cell_type": "code",
   "execution_count": null,
   "metadata": {},
   "outputs": [],
   "source": [
    "# We now create a dataframe with the venues found from the above list\n",
    "dtvenues_df = pd.DataFrame(dtvenues_list, columns=['Neighborhood', 'Venue Name', 'Venue Category'])\n",
    "dtvenues_df.head()"
   ]
  },
  {
   "cell_type": "code",
   "execution_count": null,
   "metadata": {},
   "outputs": [],
   "source": [
    "# One-hot encoding of the above df\n",
    "dtvenues_onehot = pd.get_dummies(dtvenues_df[['Venue Category']], prefix=\"\", prefix_sep=\"\")\n",
    "\n",
    "# Now we add the Neighborhood and fix columns\n",
    "dtvenues_onehot['Neighborhood'] = dtvenues_df['Neighborhood']\n",
    "col_order = ['Neighborhood'] + [col for col in dtvenues_onehot.columns if not col == 'Neighborhood']\n",
    "dtvenues_onehot = dtvenues_onehot[col_order]\n",
    "dtvenues_onehot.head()"
   ]
  },
  {
   "cell_type": "markdown",
   "metadata": {},
   "source": [
    "### Finally, we get the mean frequency for each neighborhood and apply our K-Means algorithm"
   ]
  },
  {
   "cell_type": "code",
   "execution_count": null,
   "metadata": {},
   "outputs": [],
   "source": [
    "dtvenues_mean = dtvenues_onehot.groupby('Neighborhood').mean().reset_index()\n",
    "dtvenues_mean.head()"
   ]
  },
  {
   "cell_type": "code",
   "execution_count": null,
   "metadata": {},
   "outputs": [],
   "source": [
    "dtvenues_cluster = dtvenues_mean.drop('Neighborhood', axis=1)\n",
    "\n",
    "kclusters=5\n",
    "\n",
    "dt_kmm = KMeans(init=\"k-means++\", n_clusters=kclusters, n_init=10, random_state=0)\n",
    "dt_kmm.fit(dtvenues_cluster)\n",
    "\n",
    "dt_kmm.labels_"
   ]
  },
  {
   "cell_type": "markdown",
   "metadata": {},
   "source": [
    "### Now we once again clean the dataframe and insert appropriate information for plotting"
   ]
  },
  {
   "cell_type": "code",
   "execution_count": null,
   "metadata": {},
   "outputs": [],
   "source": [
    "dtvenues_mean.insert(1, 'Cluster', dt_kmm.labels_)\n",
    "dtvenues_mean.head()"
   ]
  },
  {
   "cell_type": "code",
   "execution_count": null,
   "metadata": {},
   "outputs": [],
   "source": [
    "dtcluster_df = dtvenues_mean.iloc[:, :2]\n",
    "dtcluster_df.head()"
   ]
  },
  {
   "cell_type": "code",
   "execution_count": null,
   "metadata": {},
   "outputs": [],
   "source": [
    "# Join Postal Code and Lat/Long information\n",
    "dtcluster_df = dtcluster_df.join(dt_df.drop('Borough',axis=1).set_index('Neighborhood'), on='Neighborhood')\n",
    "\n",
    "# Let Cluster column be the last one and PostalCode the first, just for the sake of consistency\n",
    "col_order = ['PostalCode'] + [col for col in dtcluster_df.columns if not (col=='PostalCode' or col=='Cluster')] + ['Cluster']\n",
    "dtcluster_df = dtcluster_df[col_order]\n",
    "dtcluster_df.head()"
   ]
  },
  {
   "cell_type": "markdown",
   "metadata": {},
   "source": [
    "### Finally, we plot the neighborhoods with cluster colors on a Folium map"
   ]
  },
  {
   "cell_type": "code",
   "execution_count": null,
   "metadata": {},
   "outputs": [],
   "source": [
    "# Let us centralize the map in Downtown Toronto area\n",
    "# In order to do that, we get the mean of lat/long from all postal codes in such area\n",
    "lat,long = float(dt_df.groupby('Borough').mean()['Latitude']), float(dt_df.groupby('Borough').mean()['Longitude'])\n",
    "\n",
    "dt_map = folium.Map(location=[lat,long], zoom_start=13)\n",
    "\n",
    "# Now we create our colored markers for each postal code and cluster number\n",
    "cols = plt.cm.Spectral(np.linspace(0,1,len(set(dt_kmm.labels_))))\n",
    "cols = [colors_mpl.rgb2hex(x) for x in cols]\n",
    "\n",
    "for postal, lat, long, clus, nb in zip(dtcluster_df['PostalCode'], dtcluster_df['Latitude'], dtcluster_df['Longitude'], dtcluster_df['Cluster'], dtcluster_df['Neighborhood']):\n",
    "    label = folium.Popup('{}: {}, {}'.format(postal,nb,clus))\n",
    "    folium.CircleMarker([lat,long],\n",
    "                       radius=5,\n",
    "                       popup=label,\n",
    "                       fill=True,\n",
    "                       color=cols[clus],\n",
    "                       fill_color=cols[clus],\n",
    "                       fill_opacity=0.9).add_to(dt_map)\n",
    "dt_map"
   ]
  },
  {
   "cell_type": "markdown",
   "metadata": {},
   "source": [
    "###### We can see that, since this area is very dense, and hence the Neighborhoods are too close to each other, almost all of them pertain to a single cluster"
   ]
  }
 ],
 "metadata": {
  "kernelspec": {
   "display_name": "Python 3",
   "language": "python",
   "name": "python3"
  },
  "language_info": {
   "codemirror_mode": {
    "name": "ipython",
    "version": 3
   },
   "file_extension": ".py",
   "mimetype": "text/x-python",
   "name": "python",
   "nbconvert_exporter": "python",
   "pygments_lexer": "ipython3",
   "version": "3.6.9"
  }
 },
 "nbformat": 4,
 "nbformat_minor": 4
}
